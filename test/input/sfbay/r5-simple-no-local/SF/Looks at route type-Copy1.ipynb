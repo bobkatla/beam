{
 "cells": [
  {
   "cell_type": "code",
   "execution_count": 1,
   "id": "68ca357c",
   "metadata": {},
   "outputs": [],
   "source": [
    "import pandas as pd"
   ]
  },
  {
   "cell_type": "code",
   "execution_count": 2,
   "id": "a1c7be04",
   "metadata": {},
   "outputs": [],
   "source": [
    "routes = pd.read_csv('routes.txt')"
   ]
  },
  {
   "cell_type": "code",
   "execution_count": 3,
   "id": "4aae1361",
   "metadata": {},
   "outputs": [
    {
     "data": {
      "text/plain": [
       "array([3, 5, 0])"
      ]
     },
     "execution_count": 3,
     "metadata": {},
     "output_type": "execute_result"
    }
   ],
   "source": [
    "routes['route_type'].unique()"
   ]
  },
  {
   "cell_type": "code",
   "execution_count": 53,
   "id": "7d49acd4",
   "metadata": {},
   "outputs": [
    {
     "data": {
      "text/html": [
       "<div>\n",
       "<style scoped>\n",
       "    .dataframe tbody tr th:only-of-type {\n",
       "        vertical-align: middle;\n",
       "    }\n",
       "\n",
       "    .dataframe tbody tr th {\n",
       "        vertical-align: top;\n",
       "    }\n",
       "\n",
       "    .dataframe thead th {\n",
       "        text-align: right;\n",
       "    }\n",
       "</style>\n",
       "<table border=\"1\" class=\"dataframe\">\n",
       "  <thead>\n",
       "    <tr style=\"text-align: right;\">\n",
       "      <th></th>\n",
       "      <th>route_id</th>\n",
       "      <th>agency_id</th>\n",
       "      <th>route_short_name</th>\n",
       "      <th>route_long_name</th>\n",
       "      <th>route_desc</th>\n",
       "      <th>route_type</th>\n",
       "      <th>route_url</th>\n",
       "      <th>route_color</th>\n",
       "      <th>route_text_color</th>\n",
       "    </tr>\n",
       "  </thead>\n",
       "  <tbody>\n",
       "  </tbody>\n",
       "</table>\n",
       "</div>"
      ],
      "text/plain": [
       "Empty DataFrame\n",
       "Columns: [route_id, agency_id, route_short_name, route_long_name, route_desc, route_type, route_url, route_color, route_text_color]\n",
       "Index: []"
      ]
     },
     "execution_count": 53,
     "metadata": {},
     "output_type": "execute_result"
    }
   ],
   "source": [
    "routes[routes['route_long_name'].str.contains('BIRD')]"
   ]
  },
  {
   "cell_type": "code",
   "execution_count": 54,
   "id": "d5f27f49",
   "metadata": {},
   "outputs": [
    {
     "data": {
      "text/plain": [
       "array(['CALIFORNIA', 'CALIFORNIA A EXPRESS', 'CALIFORNIA B EXPRESS',\n",
       "       'BALBOA A EXPRESS', 'BALBOA B EXPRESS', 'GEARY A EXPRESS',\n",
       "       'GEARY B EXPRESS', 'SUTTER/CLEMENT', 'JACKSON', 'FULTON ',\n",
       "       'R FULTON RAPID', 'HAIGHT-PARNASSUS', 'HAIGHT-NORIEGA',\n",
       "       'NORIEGA EXPRESS', 'BAYSHORE', 'Bayshore A Express',\n",
       "       'Bayshore B Express', 'SAN BRUNO', 'SAN BRUNO RAPID', 'TOWNSEND',\n",
       "       'FOLSOM-PACIFIC', 'MISSION', 'MISSION RAPID', 'MISSION EXPRESS',\n",
       "       '46TH AVENUE', 'POLK', 'HAYES', 'FILLMORE', 'MONTEREY',\n",
       "       'DIVISADERO', 'TREASURE ISLAND', 'BRYANT', '19TH AVENUE', 'SUNSET',\n",
       "       'STOCKTON', 'MARINA EXPRESS', 'BALBOA', 'ASHBURY-18TH ST',\n",
       "       'EUREKA', 'TERESITA', 'CORBETT', 'GEARY', 'GEARY RAPID', 'COIT',\n",
       "       'UNION', 'MASONIC', \"O'SHAUGHNESSY\", 'UNION-STOCKTON', 'VAN NESS',\n",
       "       'QUINTARA-24TH STREET', 'VAN NESS-MISSION', 'EXCELSIOR', 'FELTON',\n",
       "       '16TH STREET', 'RUTLAND', 'PARKMERCED', 'POWELL-MASON CABLE CAR',\n",
       "       'POWELL-HYDE CABLE CAR', 'CALIFORNIA CABLE CAR', 'QUINTARA',\n",
       "       'BERNAL HEIGHTS', 'MARIN HEADLANDS EXPRESS', 'CALTRAIN EXPRESS',\n",
       "       'LEVI PLAZA EXPRESS', 'MID-MARKET EXPRESS', 'BART SHUTTLE',\n",
       "       'SAN BRUNO OWL', '3RD-19TH AVE OWL', 'INGLESIDE OWL',\n",
       "       'TARAVAL OWL', 'OCEANVIEW OWL', 'JUDAH OWL', 'THIRD OWL',\n",
       "       'EMBARCADERO', 'MARKET & WHARVES', 'N EXPRESS', 'CHURCH',\n",
       "       'INGLESIDE/THIRD', 'TARAVAL', 'OCEANVIEW', 'JUDAH'], dtype=object)"
      ]
     },
     "execution_count": 54,
     "metadata": {},
     "output_type": "execute_result"
    }
   ],
   "source": [
    "routes['route_long_name'].unique()"
   ]
  },
  {
   "cell_type": "code",
   "execution_count": null,
   "id": "3e85e79b",
   "metadata": {},
   "outputs": [],
   "source": []
  }
 ],
 "metadata": {
  "kernelspec": {
   "display_name": "Python 3 (ipykernel)",
   "language": "python",
   "name": "python3"
  },
  "language_info": {
   "codemirror_mode": {
    "name": "ipython",
    "version": 3
   },
   "file_extension": ".py",
   "mimetype": "text/x-python",
   "name": "python",
   "nbconvert_exporter": "python",
   "pygments_lexer": "ipython3",
   "version": "3.9.13"
  }
 },
 "nbformat": 4,
 "nbformat_minor": 5
}
